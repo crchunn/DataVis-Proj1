version https://git-lfs.github.com/spec/v1
oid sha256:59cb9943d63f35ad8ad1a346138ffd25a189da8d8b0a8ad85e20fe910ab0feaf
size 2429
